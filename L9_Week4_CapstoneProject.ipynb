{
    "cells": [
        {
            "cell_type": "code",
            "execution_count": null,
            "metadata": {},
            "outputs": [
                {
                    "name": "stdout",
                    "output_type": "stream",
                    "text": "Solving environment: done\n\n## Package Plan ##\n\n  environment location: /opt/conda/envs/Python36\n\n  added / updated specs: \n    - folium=0.5.0\n\n\nThe following packages will be downloaded:\n\n    package                    |            build\n    ---------------------------|-----------------\n    altair-4.0.0               |             py_0         606 KB  conda-forge\n    vincent-0.4.4              |             py_1          28 KB  conda-forge\n    openssl-1.1.1d             |       h516909a_0         2.1 MB  conda-forge\n    ca-certificates-2019.11.28 |       hecc5488_0         145 KB  conda-forge\n    certifi-2019.11.28         |           py36_0         149 KB  conda-forge\n    folium-0.5.0               |             py_0          45 KB  conda-forge\n    branca-0.3.1               |             py_0          25 KB  conda-forge\n    ------------------------------------------------------------\n                                           Total:         3.1 MB\n\nThe following NEW packages will be INSTALLED:\n\n    altair:          4.0.0-py_0        conda-forge\n    branca:          0.3.1-py_0        conda-forge\n    folium:          0.5.0-py_0        conda-forge\n    vincent:         0.4.4-py_1        conda-forge\n\nThe following packages will be UPDATED:\n\n    ca-certificates: 2019.11.27-0                  --> 2019.11.28-hecc5488_0 conda-forge\n    certifi:         2019.11.28-py36_0             --> 2019.11.28-py36_0     conda-forge\n\nThe following packages will be DOWNGRADED:\n\n    openssl:         1.1.1d-h7b6447c_3             --> 1.1.1d-h516909a_0     conda-forge\n\n\nDownloading and Extracting Packages\naltair-4.0.0         | 606 KB    | ##################################### | 100% \nvincent-0.4.4        | 28 KB     | ##################################### | 100% \nopenssl-1.1.1d       | 2.1 MB    | ##################################### | 100% \nca-certificates-2019 | 145 KB    | ##################################### | 100% \ncertifi-2019.11.28   | 149 KB    | ##################################### | 100% \nfolium-0.5.0         | 45 KB     | ##################################### | 100% \nbranca-0.3.1         | 25 KB     | ##################################### | 100% \nPreparing transaction: done\nVerifying transaction: done\nExecuting transaction: done\n"
                }
            ],
            "source": "!conda install -c conda-forge folium=0.5.0 --yes\n\nimport pandas as pd\nimport folium"
        },
        {
            "cell_type": "code",
            "execution_count": null,
            "metadata": {},
            "outputs": [],
            "source": "# The code was removed by Watson Studio for sharing."
        },
        {
            "cell_type": "markdown",
            "metadata": {},
            "source": "First we build a GET request to FourSquare API. Here, we find coffee shop near Milan center, in a radius of 1000 meters. Here we build a request parameter and add it to url."
        },
        {
            "cell_type": "code",
            "execution_count": null,
            "metadata": {},
            "outputs": [],
            "source": "import requests\n\nrequest_parameters = {\n    \"client_id\": CLIENT_ID,\n    \"client_secret\": CLIENT_SECRET,\n    \"v\": VERSION,\n    \"section\": \"coffee\",\n    \"near\": \"Milan\",\n    \"radius\": 1000,\n    \"limit\": 100}\n\ndata = requests.get(\"https://api.foursquare.com/v2/venues/explore\", params=request_parameters)"
        },
        {
            "cell_type": "code",
            "execution_count": null,
            "metadata": {},
            "outputs": [],
            "source": "#assign response to object and get its keys\nd = data.json()[\"response\"]\nd.keys()"
        },
        {
            "cell_type": "markdown",
            "metadata": {},
            "source": "Most of the items on dictionary are giving some general information like the name of the city, the related geo code and etc.  Groups contain the actual search result. all the coffee shop are under the venues label"
        },
        {
            "cell_type": "code",
            "execution_count": null,
            "metadata": {},
            "outputs": [],
            "source": "d[\"headerLocationGranularity\"], d[\"headerLocation\"], d[\"headerFullLocation\"]"
        },
        {
            "cell_type": "markdown",
            "metadata": {},
            "source": "Now count how many coffe shop are in the bound of Milan center"
        },
        {
            "cell_type": "code",
            "execution_count": null,
            "metadata": {},
            "outputs": [],
            "source": "d[\"suggestedBounds\"], d[\"totalResults\"]"
        },
        {
            "cell_type": "code",
            "execution_count": null,
            "metadata": {},
            "outputs": [],
            "source": "d[\"geocode\"]"
        },
        {
            "cell_type": "markdown",
            "metadata": {},
            "source": "Let's print first item to get better idea of the data structure."
        },
        {
            "cell_type": "code",
            "execution_count": null,
            "metadata": {},
            "outputs": [],
            "source": "d[\"groups\"][0][\"items\"][0]"
        },
        {
            "cell_type": "code",
            "execution_count": null,
            "metadata": {},
            "outputs": [],
            "source": "items = d[\"groups\"][0][\"items\"]\nprint(\"number of items: %i\" % len(items))\nitems[0][\"venue\"].keys()"
        },
        {
            "cell_type": "markdown",
            "metadata": {},
            "source": "From retrieved location we build a new pandas dataframe"
        },
        {
            "cell_type": "code",
            "execution_count": null,
            "metadata": {
                "scrolled": true
            },
            "outputs": [],
            "source": "df_raw = []\nfor item in items:\n    venue = item[\"venue\"]\n    categories, uid, name, location = venue[\"categories\"], venue[\"id\"], venue[\"name\"], venue[\"location\"]\n    assert len(categories) == 1\n    shortname = categories[0][\"shortName\"]\n    address = location[\"formattedAddress\"]\n    if not \"postalCode\" in location:\n        continue\n    postalcode = location[\"postalCode\"]\n    lat = location[\"lat\"]\n    lng = location[\"lng\"]\n    datarow = (uid, name, shortname, address, postalcode, lat, lng)\n    df_raw.append(datarow)\ndf = pd.DataFrame(df_raw, columns=[\"uid\", \"name\", \"shortname\", \"address\",\"postalcode\", \"lat\", \"lng\"])\nprint(\"found %i coffee\" % len(df))\ndf.head()"
        },
        {
            "cell_type": "markdown",
            "metadata": {},
            "source": "Some density based on estimator is giving a good tip where to start a new coffee shop.  There is a HeatMap to visualize all the existing coffee shops to same map."
        },
        {
            "cell_type": "code",
            "execution_count": null,
            "metadata": {},
            "outputs": [],
            "source": "milan_center = d[\"geocode\"][\"center\"]\nmilan_center"
        },
        {
            "cell_type": "code",
            "execution_count": null,
            "metadata": {},
            "outputs": [],
            "source": "from folium import plugins\n\n# create map of milan using latitude and longitude values\nmap_milan = folium.Map(location=[milan_center[\"lat\"], milan_center[\"lng\"]], zoom_start=14)\n\ndef add_markers(df):\n    for (j, row) in df.iterrows():\n        label = folium.Popup(row[\"name\"], parse_html=True)\n        folium.CircleMarker(\n            [row[\"lat\"], row[\"lng\"]],\n            radius=5,\n            popup=label,\n            color='blue',\n            fill=True,\n            fill_color='#3186cc',\n            fill_opacity=0.7,\n            parse_html=False).add_to(map_milan)\n\nadd_markers(df)\nhm_data = df[[\"lat\", \"lng\"]].values.tolist()\nmap_milan.add_child(plugins.HeatMap(hm_data))\n\nmap_milan"
        },
        {
            "cell_type": "markdown",
            "metadata": {},
            "source": "## Results"
        },
        {
            "cell_type": "markdown",
            "metadata": {},
            "source": "Based on these results, one possibly good location for the new Coffee Shop would be in piazza fontana, at the end of a long way that connect Milan universtity and the behind of Duomo di Milano Cathedral "
        },
        {
            "cell_type": "code",
            "execution_count": null,
            "metadata": {},
            "outputs": [],
            "source": "lat = 45.46377\nlng = 9.19356\nmap_milan = folium.Map(location=[lat, lng], zoom_start=17)\nadd_markers(df)\nfolium.CircleMarker(\n    [lat, lng],\n    radius=15,\n    popup=\"Our new Coffee Shop!\",\n    color='red',\n    fill=True,\n    fill_color='#3186cc',\n    fill_opacity=0.7,\n    parse_html=False).add_to(map_milan)\nmap_milan"
        }
    ],
    "metadata": {
        "kernelspec": {
            "display_name": "Python 3.6",
            "language": "python",
            "name": "python3"
        },
        "language_info": {
            "codemirror_mode": {
                "name": "ipython",
                "version": 3
            },
            "file_extension": ".py",
            "mimetype": "text/x-python",
            "name": "python",
            "nbconvert_exporter": "python",
            "pygments_lexer": "ipython3",
            "version": "3.6.8"
        }
    },
    "nbformat": 4,
    "nbformat_minor": 1
}